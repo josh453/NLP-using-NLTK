{
 "cells": [
  {
   "cell_type": "code",
   "execution_count": 22,
   "metadata": {
    "collapsed": false
   },
   "outputs": [],
   "source": [
    "import nltk\n",
    "from nltk.corpus import gutenberg\n",
    "import string\n",
    "import matplotlib.pyplot as plt"
   ]
  },
  {
   "cell_type": "code",
   "execution_count": 2,
   "metadata": {
    "collapsed": false
   },
   "outputs": [
    {
     "data": {
      "text/plain": [
       "['austen-emma.txt',\n",
       " 'austen-persuasion.txt',\n",
       " 'austen-sense.txt',\n",
       " 'bible-kjv.txt',\n",
       " 'blake-poems.txt',\n",
       " 'bryant-stories.txt',\n",
       " 'burgess-busterbrown.txt',\n",
       " 'carroll-alice.txt',\n",
       " 'chesterton-ball.txt',\n",
       " 'chesterton-brown.txt',\n",
       " 'chesterton-thursday.txt',\n",
       " 'edgeworth-parents.txt',\n",
       " 'melville-moby_dick.txt',\n",
       " 'milton-paradise.txt',\n",
       " 'shakespeare-caesar.txt',\n",
       " 'shakespeare-hamlet.txt',\n",
       " 'shakespeare-macbeth.txt',\n",
       " 'whitman-leaves.txt']"
      ]
     },
     "execution_count": 2,
     "metadata": {},
     "output_type": "execute_result"
    }
   ],
   "source": [
    "#List of NLTK included text\n",
    "nltk.corpus.gutenberg.fileids()"
   ]
  },
  {
   "cell_type": "code",
   "execution_count": 3,
   "metadata": {
    "collapsed": false
   },
   "outputs": [
    {
     "name": "stdout",
     "output_type": "stream",
     "text": [
      "[Moby Dick by Herman Melville 1851]\r\n",
      "\r\n",
      "\r\n",
      "ETYMOLOGY.\r\n",
      "\r\n",
      "(Supplied by a Late Consumptive Usher to a Grammar School)\r\n",
      "\r\n",
      "The pale Usher--threadbare in coat, heart, body, and brain; I see him\r\n",
      "now.  He was ever dusting his old lexicons and grammars, with a queer\r\n",
      "handkerchief, mockingly embellished with all the gay flags of all the\r\n",
      "known nations of the world.  He loved to dust his old grammars; it\r\n",
      "somehow mildly reminded him of his mortality.\r\n",
      "\r\n",
      "\"While you take in hand to school others, and to teach them by what\r\n",
      "name a whale-fish is to be called in our tongue leaving out, through\r\n",
      "ignorance, the letter H, which almost alone maketh the signification\r\n",
      "of the word, you deliver that which is not true.\" --HACKLUYT\r\n",
      "\r\n",
      "\"WHALE. ... Sw. and Dan. HVAL.  This animal is named from roundness\r\n",
      "or rolling; for in Dan. HVALT is arched or vaulted.\" --WEBSTER'S\r\n",
      "DICTIONARY\r\n",
      "\r\n",
      "\"WHALE. ... It is more immediately from the Dut. and Ger. WALLEN;\r\n",
      "A.S. WALW-IAN, to roll, to wallow.\" --RICHARDSON'S DICTIONARY\r\n",
      "\r\n"
     ]
    }
   ],
   "source": [
    "#Choose Moby Dick by Herman Melville \n",
    "moby_raw = nltk.corpus.gutenberg.raw('melville-moby_dick.txt')\n",
    "\n",
    "#Look at at the first 1,000 characters\n",
    "print(moby_raw[:1000])"
   ]
  },
  {
   "cell_type": "markdown",
   "metadata": {},
   "source": [
    "Project Gutenberg contains a header with the name of the text, the author, the names of people who scanned and corrected the text, a license, and so on. Let's remove all of the extraneuous information to only have the main text of Moby Dick."
   ]
  },
  {
   "cell_type": "code",
   "execution_count": 4,
   "metadata": {
    "collapsed": false
   },
   "outputs": [
    {
     "data": {
      "text/plain": [
       "(1242990, 21958, 1242979)"
      ]
     },
     "execution_count": 4,
     "metadata": {},
     "output_type": "execute_result"
    }
   ],
   "source": [
    "#Find the beginning of chapter 1 and end of book\n",
    "len(moby_raw), moby_raw.find('Loomings'), moby_raw.rfind('orphan.')"
   ]
  },
  {
   "cell_type": "code",
   "execution_count": 5,
   "metadata": {
    "collapsed": false
   },
   "outputs": [
    {
     "name": "stdout",
     "output_type": "stream",
     "text": [
      "BEGINNING \n",
      "----------------------------------------\n",
      "CHAPTER 1\r\n",
      "\r\n",
      "Loomings.\r\n",
      "\r\n",
      "\r\n",
      "Call me Ishmael.  Some years ago--never mind how long\r\n",
      "precisely--having little or no money in my purse, and nothing\r\n",
      "particular to interest me on shore, I thought I would sail about a\r\n",
      "little and see the watery part of the world.  It is a way I have of\r\n",
      "driving off the spleen and regulating the circulation.  Whenever I\r\n",
      "find myself growing grim about the mouth; whenever it is a damp,\r\n",
      "drizzly November in my soul; whenever I find myself involuntarily\r\n",
      "pausing before coffin warehouses, and bringing up the rear of every\r\n",
      "funeral I meet; and especially whenever my hypos get such an upper\r\n",
      "hand of me, that it requires a strong moral principle to prevent me\r\n",
      "from deliberately stepping into the street, and methodically knocking\r\n",
      "people's hats off--then, I account it high time to get to sea as soon\r\n",
      "as I can.  This is my substitute for pistol and ball.  With a\r\n",
      "philosophical flourish Cato throws himself upon his sword; I quietly\r\n",
      "take to the ship.  There is nothing\n",
      "\n",
      "END \n",
      "----------------------------------------\r\n",
      "\r\n",
      "\r\n",
      "Epilogue\r\n",
      "\r\n",
      "\"AND I ONLY AM ESCAPED ALONE TO TELL THEE\"\r\n",
      "Job.\r\n",
      "\r\n",
      "The drama's done.  Why then here does any one step forth?--Because\r\n",
      "one did survive the wreck.\r\n",
      "\r\n",
      "It so chanced, that after the Parsee's disappearance, I was he whom\r\n",
      "the Fates ordained to take the place of Ahab's bowsman, when that\r\n",
      "bowsman assumed the vacant post; the same, who, when on the last day\r\n",
      "the three men were tossed from out of the rocking boat, was dropped\r\n",
      "astern.  So, floating on the margin of the ensuing scene, and in full\r\n",
      "sight of it, when the halfspent suction of the sunk ship reached me,\r\n",
      "I was then, but slowly, drawn towards the closing vortex.  When I\r\n",
      "reached it, it had subsided to a creamy pool.  Round and round, then,\r\n",
      "and ever contracting towards the button-like black bubble at the axis\r\n",
      "of that slowly wheeling circle, like another Ixion I did revolve.\r\n",
      "Till, gaining that vital centre, the black bubble upward burst; and\r\n",
      "now, liberated by reason of its cunning spring, and, owing to its\r\n",
      "great buoyancy, rising with great force, the coffin life-buoy shot\r\n",
      "lengthwise from the sea, fell over, and floated by my side.  Buoyed\r\n",
      "up by that coffin, for almost one whole day and night, I floated on a\r\n",
      "soft and dirgelike main.  The unharming sharks, they glided by as if\r\n",
      "with padlocks on their mouths; the savage sea-hawks sailed with\r\n",
      "sheathed beaks.  On the second day, a sail drew near, nearer, and\r\n",
      "picked me up at last.  It was the devious-cruising Rachel, that in\r\n",
      "her retracing search after her missing children, only found another\r\n",
      "orphan.\n"
     ]
    }
   ],
   "source": [
    "#Slice to chapter 1 and include the epilogue\n",
    "moby_raw_filtered = moby_raw[21945:1242986]\n",
    "print(\"BEGINNING \\n\" + '-'*40 + '\\n' + moby_raw_filtered[:1000] + \"\\n\"*2 + \"END \\n\" + '-'*40 + moby_raw_filtered[-1550:])"
   ]
  },
  {
   "cell_type": "code",
   "execution_count": 6,
   "metadata": {
    "collapsed": false
   },
   "outputs": [
    {
     "name": "stdout",
     "output_type": "stream",
     "text": [
      "Sperm Whale; Moby Dick; White Whale; old man; Captain Ahab; sperm\n",
      "whale; Right Whale; Captain Peleg; Mr. Starbuck; New Bedford; Cape\n",
      "Horn; 'ye see; cried Ahab; years ago; lower jaw; white whale; Mrs.\n",
      "Hussey; chief mate; never mind; Father Mapple\n"
     ]
    }
   ],
   "source": [
    "#Tokenize and text Moby Dick\n",
    "moby_token = nltk.word_tokenize(moby_raw_filtered)\n",
    "moby_text = nltk.Text(moby_token)\n",
    "\n",
    "#Check any collocations which can give an idea of themes\n",
    "moby_text.collocations()"
   ]
  },
  {
   "cell_type": "code",
   "execution_count": 94,
   "metadata": {
    "collapsed": false
   },
   "outputs": [
    {
     "data": {
      "text/plain": [
       "[(',', 18923),\n",
       " ('the', 13522),\n",
       " ('.', 7064),\n",
       " ('of', 6402),\n",
       " ('and', 5931),\n",
       " ('a', 4465),\n",
       " ('to', 4444),\n",
       " (';', 4143),\n",
       " ('in', 3830),\n",
       " ('that', 2939)]"
      ]
     },
     "execution_count": 94,
     "metadata": {},
     "output_type": "execute_result"
    }
   ],
   "source": [
    "#Create a word frequency distribution and look at 10 most common tokens\n",
    "nltk.FreqDist(moby_text).most_common(10)"
   ]
  },
  {
   "cell_type": "markdown",
   "metadata": {},
   "source": [
    "The text contains a lot of stopwords and punctuation, the block below will remove them."
   ]
  },
  {
   "cell_type": "code",
   "execution_count": 55,
   "metadata": {
    "collapsed": false
   },
   "outputs": [
    {
     "data": {
      "text/plain": [
       "[('one', 869),\n",
       " ('whale', 743),\n",
       " ('like', 552),\n",
       " ('upon', 532),\n",
       " ('Ahab', 498),\n",
       " ('man', 470),\n",
       " ('ship', 450),\n",
       " ('old', 426),\n",
       " ('ye', 422),\n",
       " ('would', 420)]"
      ]
     },
     "execution_count": 55,
     "metadata": {},
     "output_type": "execute_result"
    }
   ],
   "source": [
    "#Remove punctuation and stopwords\n",
    "stop_words = nltk.corpus.stopwords.words('english') + list(string.punctuation)\n",
    "stop_words.extend(('--',\"''\",'``',\"'s\"))\n",
    "moby_filtered = [word for word in moby_text if word.lower() not in stop_words]\n",
    "word_freq = nltk.FreqDist(moby_filtered)\n",
    "word_freq.most_common(10)"
   ]
  },
  {
   "cell_type": "markdown",
   "metadata": {},
   "source": [
    "Can iterate to see what percent of total text each of these tokens takes up. The top 10 most common words don't account for a large percentage of the text and Moby Dick doesn't appear to follow Zipf's law. This implies a high lexical diversity."
   ]
  },
  {
   "cell_type": "code",
   "execution_count": 83,
   "metadata": {
    "collapsed": false
   },
   "outputs": [
    {
     "name": "stdout",
     "output_type": "stream",
     "text": [
      "\n",
      "  Token    | Count  | Percent of Text\n",
      "****************************************\n",
      "one        |    869 |  0.812\n",
      "whale      |    743 |  0.695\n",
      "like       |    552 |  0.516\n",
      "upon       |    532 |  0.497\n",
      "Ahab       |    498 |  0.466\n",
      "man        |    470 |  0.439\n",
      "ship       |    450 |  0.421\n",
      "old        |    426 |  0.398\n",
      "ye         |    422 |  0.395\n",
      "would      |    420 |  0.393\n"
     ]
    }
   ],
   "source": [
    "#Function to plot the token, frequency and percent of total for a given text. Defaults to top 10 tokens and Moby Dick\n",
    "def freq_table(cdistfreq,number=10,text=moby_filtered):\n",
    "    print(\"\\n{:^10} | {:^6} | {:^6}\".format(\"Token\", \"Count\", \"Percent of Text\"))\n",
    "    print(\"*\"*40)\n",
    "    for item in cdistfreq.most_common(number):\n",
    "        print(\"{:10} | {:>6} | {:>6}\".format(item[0],item[1],round(100 * item[1]/len(text),3)))\n",
    "\n",
    "freq_table(word_freq)"
   ]
  },
  {
   "cell_type": "markdown",
   "metadata": {},
   "source": [
    "Can also look at the lexical diversity of the text which is a measure of uniqueness for the text. For Moby Dick the diversity is around 18%, meaning that 18% of the tokenized text is distinct or that on average each word is used about 6 times."
   ]
  },
  {
   "cell_type": "code",
   "execution_count": 84,
   "metadata": {
    "collapsed": false
   },
   "outputs": [
    {
     "data": {
      "text/plain": [
       "18.63997980723387"
      ]
     },
     "execution_count": 84,
     "metadata": {},
     "output_type": "execute_result"
    }
   ],
   "source": [
    "#Return the lexical diversity\n",
    "def lexical_diversity(text):\n",
    "    return (len(set(text)) / len(text)) * 100\n",
    "lexical_diversity(moby_filtered)"
   ]
  },
  {
   "cell_type": "markdown",
   "metadata": {},
   "source": [
    "Using a dispersion plot can show when certain elements appear in the text and how frequently. With the plot below, we can see that Ahab and Peleg don't appear until around 14% through the text and Father Mapple appears early but not again. The term whale and ship appear frequently throughout the length of the text."
   ]
  },
  {
   "cell_type": "code",
   "execution_count": 27,
   "metadata": {
    "collapsed": false
   },
   "outputs": [
    {
     "data": {
      "image/png": "[encoded data removed]",
      "text/plain": [
       "<matplotlib.figure.Figure at 0xa061c88>"
      ]
     },
     "metadata": {},
     "output_type": "display_data"
    }
   ],
   "source": [
    "#Create a dispersion plot for a specific set of tokens\n",
    "%matplotlib inline\n",
    "plt.figure(figsize=(15, 8))\n",
    "nltk.draw.dispersion.dispersion_plot(moby_filtered, [\"Ahab\",\"Peleg\",\"Starbuck\",\"Mapple\",\"whale\",\"ship\"])"
   ]
  },
  {
   "cell_type": "code",
   "execution_count": 50,
   "metadata": {
    "collapsed": false
   },
   "outputs": [
    {
     "name": "stdout",
     "output_type": "stream",
     "text": [
      "Ahab first appears 13.93 percent through the text and last appears 99.9\n",
      "Peleg first appears 13.54 percent through the text and last appears 82.1\n",
      "Starbuck first appears 18.87 percent through the text and last appears 99.38\n",
      "Mapple first appears 8.04 percent through the text and last appears 17.01\n",
      "whale first appears 0.04 percent through the text and last appears 99.67\n",
      "ship first appears 0.28 percent through the text and last appears 99.92\n"
     ]
    }
   ],
   "source": [
    "#Create function that returns the first and last instances of a token as a percentage of the total text\n",
    "def first_last_instances(token, text):\n",
    "    for toke in token:\n",
    "        print(toke + \" first appears \" + str(round((text.find(toke) / len(text)) * 100, 2)) + \n",
    "              \" percent through the text and last appears \" + str(round((text.rfind(toke) / len(text)) * 100, 2)))\n",
    "\n",
    "first_last_instances([\"Ahab\",\"Peleg\",\"Starbuck\",\"Mapple\",\"whale\",\"ship\"], moby_raw)"
   ]
  },
  {
   "cell_type": "code",
   "execution_count": 93,
   "metadata": {
    "collapsed": false
   },
   "outputs": [
    {
     "data": {
      "image/png": "[encoded data removed]",
      "text/plain": [
       "<matplotlib.figure.Figure at 0xa0f9b70>"
      ]
     },
     "metadata": {},
     "output_type": "display_data"
    }
   ],
   "source": [
    "plt.figure(figsize=(15, 8))\n",
    "word_freq.plot(50, cumulative=True)"
   ]
  },
  {
   "cell_type": "code",
   "execution_count": null,
   "metadata": {
    "collapsed": false
   },
   "outputs": [],
   "source": []
  },
  {
   "cell_type": "code",
   "execution_count": null,
   "metadata": {
    "collapsed": false
   },
   "outputs": [],
   "source": []
  },
  {
   "cell_type": "code",
   "execution_count": null,
   "metadata": {
    "collapsed": false
   },
   "outputs": [],
   "source": []
  },
  {
   "cell_type": "code",
   "execution_count": null,
   "metadata": {
    "collapsed": true
   },
   "outputs": [],
   "source": []
  }
 ],
 "metadata": {
  "kernelspec": {
   "display_name": "Python 3",
   "language": "python",
   "name": "python3"
  },
  "language_info": {
   "codemirror_mode": {
    "name": "ipython",
    "version": 3
   },
   "file_extension": ".py",
   "mimetype": "text/x-python",
   "name": "python",
   "nbconvert_exporter": "python",
   "pygments_lexer": "ipython3",
   "version": "3.5.4"
  }
 },
 "nbformat": 4,
 "nbformat_minor": 2
}
